{
 "cells": [
  {
   "cell_type": "code",
   "execution_count": 43,
   "metadata": {},
   "outputs": [],
   "source": [
    "import pandas as pd\n",
    "import warnings\n",
    "warnings.filterwarnings('ignore')\n",
    "dataframe = pd.read_csv('en_product6.csv')"
   ]
  },
  {
   "cell_type": "code",
   "execution_count": 44,
   "metadata": {},
   "outputs": [
    {
     "data": {
      "text/html": [
       "<div>\n",
       "<style scoped>\n",
       "    .dataframe tbody tr th:only-of-type {\n",
       "        vertical-align: middle;\n",
       "    }\n",
       "\n",
       "    .dataframe tbody tr th {\n",
       "        vertical-align: top;\n",
       "    }\n",
       "\n",
       "    .dataframe thead th {\n",
       "        text-align: right;\n",
       "    }\n",
       "</style>\n",
       "<table border=\"1\" class=\"dataframe\">\n",
       "  <thead>\n",
       "    <tr style=\"text-align: right;\">\n",
       "      <th></th>\n",
       "      <th>@_id</th>\n",
       "      <th>OrphaCode</th>\n",
       "      <th>ExpertLink/#text</th>\n",
       "      <th>ExpertLink/@_lang</th>\n",
       "      <th>Name/#text</th>\n",
       "      <th>Name/@_lang</th>\n",
       "      <th>DisorderType/@_id</th>\n",
       "      <th>DisorderType/Name/#text</th>\n",
       "      <th>DisorderType/Name/@_lang</th>\n",
       "      <th>DisorderGroup/@_id</th>\n",
       "      <th>...</th>\n",
       "      <th>DisorderGeneAssociationList/DisorderGeneAssociation/14/Gene/SynonymList/Synonym/11/#text</th>\n",
       "      <th>DisorderGeneAssociationList/DisorderGeneAssociation/14/Gene/SynonymList/Synonym/11/@_lang</th>\n",
       "      <th>DisorderGeneAssociationList/DisorderGeneAssociation/14/Gene/SynonymList/Synonym/12/#text</th>\n",
       "      <th>DisorderGeneAssociationList/DisorderGeneAssociation/14/Gene/SynonymList/Synonym/12/@_lang</th>\n",
       "      <th>DisorderGeneAssociationList/DisorderGeneAssociation/21/Gene/ExternalReferenceList/ExternalReference/6/@_id</th>\n",
       "      <th>DisorderGeneAssociationList/DisorderGeneAssociation/21/Gene/ExternalReferenceList/ExternalReference/6/Source</th>\n",
       "      <th>DisorderGeneAssociationList/DisorderGeneAssociation/21/Gene/ExternalReferenceList/ExternalReference/6/Reference</th>\n",
       "      <th>DisorderGeneAssociationList/DisorderGeneAssociation/21/Gene/ExternalReferenceList/ExternalReference/7/@_id</th>\n",
       "      <th>DisorderGeneAssociationList/DisorderGeneAssociation/21/Gene/ExternalReferenceList/ExternalReference/7/Source</th>\n",
       "      <th>DisorderGeneAssociationList/DisorderGeneAssociation/21/Gene/ExternalReferenceList/ExternalReference/7/Reference</th>\n",
       "    </tr>\n",
       "  </thead>\n",
       "  <tbody>\n",
       "    <tr>\n",
       "      <th>0</th>\n",
       "      <td>17601</td>\n",
       "      <td>166024</td>\n",
       "      <td>http://www.orpha.net/consor/cgi-bin/OC_Exp.php...</td>\n",
       "      <td>en</td>\n",
       "      <td>Multiple epiphyseal dysplasia, Al-Gazali type</td>\n",
       "      <td>en</td>\n",
       "      <td>21394</td>\n",
       "      <td>Disease</td>\n",
       "      <td>en</td>\n",
       "      <td>36547</td>\n",
       "      <td>...</td>\n",
       "      <td>NaN</td>\n",
       "      <td>NaN</td>\n",
       "      <td>NaN</td>\n",
       "      <td>NaN</td>\n",
       "      <td>NaN</td>\n",
       "      <td>NaN</td>\n",
       "      <td>NaN</td>\n",
       "      <td>NaN</td>\n",
       "      <td>NaN</td>\n",
       "      <td>NaN</td>\n",
       "    </tr>\n",
       "    <tr>\n",
       "      <th>1</th>\n",
       "      <td>5</td>\n",
       "      <td>93</td>\n",
       "      <td>http://www.orpha.net/consor/cgi-bin/OC_Exp.php...</td>\n",
       "      <td>en</td>\n",
       "      <td>Aspartylglucosaminuria</td>\n",
       "      <td>en</td>\n",
       "      <td>21394</td>\n",
       "      <td>Disease</td>\n",
       "      <td>en</td>\n",
       "      <td>36547</td>\n",
       "      <td>...</td>\n",
       "      <td>NaN</td>\n",
       "      <td>NaN</td>\n",
       "      <td>NaN</td>\n",
       "      <td>NaN</td>\n",
       "      <td>NaN</td>\n",
       "      <td>NaN</td>\n",
       "      <td>NaN</td>\n",
       "      <td>NaN</td>\n",
       "      <td>NaN</td>\n",
       "      <td>NaN</td>\n",
       "    </tr>\n",
       "    <tr>\n",
       "      <th>2</th>\n",
       "      <td>17604</td>\n",
       "      <td>166035</td>\n",
       "      <td>http://www.orpha.net/consor/cgi-bin/OC_Exp.php...</td>\n",
       "      <td>en</td>\n",
       "      <td>Brachydactyly-short stature-retinitis pigmento...</td>\n",
       "      <td>en</td>\n",
       "      <td>21401</td>\n",
       "      <td>Malformation syndrome</td>\n",
       "      <td>en</td>\n",
       "      <td>36547</td>\n",
       "      <td>...</td>\n",
       "      <td>NaN</td>\n",
       "      <td>NaN</td>\n",
       "      <td>NaN</td>\n",
       "      <td>NaN</td>\n",
       "      <td>NaN</td>\n",
       "      <td>NaN</td>\n",
       "      <td>NaN</td>\n",
       "      <td>NaN</td>\n",
       "      <td>NaN</td>\n",
       "      <td>NaN</td>\n",
       "    </tr>\n",
       "    <tr>\n",
       "      <th>3</th>\n",
       "      <td>6</td>\n",
       "      <td>585</td>\n",
       "      <td>http://www.orpha.net/consor/cgi-bin/OC_Exp.php...</td>\n",
       "      <td>en</td>\n",
       "      <td>Multiple sulfatase deficiency</td>\n",
       "      <td>en</td>\n",
       "      <td>21394</td>\n",
       "      <td>Disease</td>\n",
       "      <td>en</td>\n",
       "      <td>36547</td>\n",
       "      <td>...</td>\n",
       "      <td>NaN</td>\n",
       "      <td>NaN</td>\n",
       "      <td>NaN</td>\n",
       "      <td>NaN</td>\n",
       "      <td>NaN</td>\n",
       "      <td>NaN</td>\n",
       "      <td>NaN</td>\n",
       "      <td>NaN</td>\n",
       "      <td>NaN</td>\n",
       "      <td>NaN</td>\n",
       "    </tr>\n",
       "    <tr>\n",
       "      <th>4</th>\n",
       "      <td>7</td>\n",
       "      <td>118</td>\n",
       "      <td>http://www.orpha.net/consor/cgi-bin/OC_Exp.php...</td>\n",
       "      <td>en</td>\n",
       "      <td>Beta-mannosidosis</td>\n",
       "      <td>en</td>\n",
       "      <td>21394</td>\n",
       "      <td>Disease</td>\n",
       "      <td>en</td>\n",
       "      <td>36547</td>\n",
       "      <td>...</td>\n",
       "      <td>NaN</td>\n",
       "      <td>NaN</td>\n",
       "      <td>NaN</td>\n",
       "      <td>NaN</td>\n",
       "      <td>NaN</td>\n",
       "      <td>NaN</td>\n",
       "      <td>NaN</td>\n",
       "      <td>NaN</td>\n",
       "      <td>NaN</td>\n",
       "      <td>NaN</td>\n",
       "    </tr>\n",
       "  </tbody>\n",
       "</table>\n",
       "<p>5 rows × 4652 columns</p>\n",
       "</div>"
      ],
      "text/plain": [
       "    @_id  OrphaCode                                   ExpertLink/#text  \\\n",
       "0  17601     166024  http://www.orpha.net/consor/cgi-bin/OC_Exp.php...   \n",
       "1      5         93  http://www.orpha.net/consor/cgi-bin/OC_Exp.php...   \n",
       "2  17604     166035  http://www.orpha.net/consor/cgi-bin/OC_Exp.php...   \n",
       "3      6        585  http://www.orpha.net/consor/cgi-bin/OC_Exp.php...   \n",
       "4      7        118  http://www.orpha.net/consor/cgi-bin/OC_Exp.php...   \n",
       "\n",
       "  ExpertLink/@_lang                                         Name/#text  \\\n",
       "0                en      Multiple epiphyseal dysplasia, Al-Gazali type   \n",
       "1                en                             Aspartylglucosaminuria   \n",
       "2                en  Brachydactyly-short stature-retinitis pigmento...   \n",
       "3                en                      Multiple sulfatase deficiency   \n",
       "4                en                                  Beta-mannosidosis   \n",
       "\n",
       "  Name/@_lang  DisorderType/@_id DisorderType/Name/#text  \\\n",
       "0          en              21394                 Disease   \n",
       "1          en              21394                 Disease   \n",
       "2          en              21401   Malformation syndrome   \n",
       "3          en              21394                 Disease   \n",
       "4          en              21394                 Disease   \n",
       "\n",
       "  DisorderType/Name/@_lang  DisorderGroup/@_id  ...  \\\n",
       "0                       en               36547  ...   \n",
       "1                       en               36547  ...   \n",
       "2                       en               36547  ...   \n",
       "3                       en               36547  ...   \n",
       "4                       en               36547  ...   \n",
       "\n",
       "  DisorderGeneAssociationList/DisorderGeneAssociation/14/Gene/SynonymList/Synonym/11/#text  \\\n",
       "0                                                NaN                                         \n",
       "1                                                NaN                                         \n",
       "2                                                NaN                                         \n",
       "3                                                NaN                                         \n",
       "4                                                NaN                                         \n",
       "\n",
       "  DisorderGeneAssociationList/DisorderGeneAssociation/14/Gene/SynonymList/Synonym/11/@_lang  \\\n",
       "0                                                NaN                                          \n",
       "1                                                NaN                                          \n",
       "2                                                NaN                                          \n",
       "3                                                NaN                                          \n",
       "4                                                NaN                                          \n",
       "\n",
       "   DisorderGeneAssociationList/DisorderGeneAssociation/14/Gene/SynonymList/Synonym/12/#text  \\\n",
       "0                                                NaN                                          \n",
       "1                                                NaN                                          \n",
       "2                                                NaN                                          \n",
       "3                                                NaN                                          \n",
       "4                                                NaN                                          \n",
       "\n",
       "  DisorderGeneAssociationList/DisorderGeneAssociation/14/Gene/SynonymList/Synonym/12/@_lang  \\\n",
       "0                                                NaN                                          \n",
       "1                                                NaN                                          \n",
       "2                                                NaN                                          \n",
       "3                                                NaN                                          \n",
       "4                                                NaN                                          \n",
       "\n",
       "   DisorderGeneAssociationList/DisorderGeneAssociation/21/Gene/ExternalReferenceList/ExternalReference/6/@_id  \\\n",
       "0                                                NaN                                                            \n",
       "1                                                NaN                                                            \n",
       "2                                                NaN                                                            \n",
       "3                                                NaN                                                            \n",
       "4                                                NaN                                                            \n",
       "\n",
       "  DisorderGeneAssociationList/DisorderGeneAssociation/21/Gene/ExternalReferenceList/ExternalReference/6/Source  \\\n",
       "0                                                NaN                                                             \n",
       "1                                                NaN                                                             \n",
       "2                                                NaN                                                             \n",
       "3                                                NaN                                                             \n",
       "4                                                NaN                                                             \n",
       "\n",
       "  DisorderGeneAssociationList/DisorderGeneAssociation/21/Gene/ExternalReferenceList/ExternalReference/6/Reference  \\\n",
       "0                                                NaN                                                                \n",
       "1                                                NaN                                                                \n",
       "2                                                NaN                                                                \n",
       "3                                                NaN                                                                \n",
       "4                                                NaN                                                                \n",
       "\n",
       "  DisorderGeneAssociationList/DisorderGeneAssociation/21/Gene/ExternalReferenceList/ExternalReference/7/@_id  \\\n",
       "0                                                NaN                                                           \n",
       "1                                                NaN                                                           \n",
       "2                                                NaN                                                           \n",
       "3                                                NaN                                                           \n",
       "4                                                NaN                                                           \n",
       "\n",
       "   DisorderGeneAssociationList/DisorderGeneAssociation/21/Gene/ExternalReferenceList/ExternalReference/7/Source  \\\n",
       "0                                                NaN                                                              \n",
       "1                                                NaN                                                              \n",
       "2                                                NaN                                                              \n",
       "3                                                NaN                                                              \n",
       "4                                                NaN                                                              \n",
       "\n",
       "  DisorderGeneAssociationList/DisorderGeneAssociation/21/Gene/ExternalReferenceList/ExternalReference/7/Reference  \n",
       "0                                                NaN                                                               \n",
       "1                                                NaN                                                               \n",
       "2                                                NaN                                                               \n",
       "3                                                NaN                                                               \n",
       "4                                                NaN                                                               \n",
       "\n",
       "[5 rows x 4652 columns]"
      ]
     },
     "execution_count": 44,
     "metadata": {},
     "output_type": "execute_result"
    }
   ],
   "source": [
    "dataframe.head()"
   ]
  },
  {
   "cell_type": "code",
   "execution_count": 45,
   "metadata": {},
   "outputs": [
    {
     "data": {
      "text/plain": [
       "Index(['@_id', 'OrphaCode', 'ExpertLink/#text', 'ExpertLink/@_lang',\n",
       "       'Name/#text', 'Name/@_lang', 'DisorderType/@_id',\n",
       "       'DisorderType/Name/#text', 'DisorderType/Name/@_lang',\n",
       "       'DisorderGroup/@_id',\n",
       "       ...\n",
       "       'DisorderGeneAssociationList/DisorderGeneAssociation/14/Gene/SynonymList/Synonym/11/#text',\n",
       "       'DisorderGeneAssociationList/DisorderGeneAssociation/14/Gene/SynonymList/Synonym/11/@_lang',\n",
       "       'DisorderGeneAssociationList/DisorderGeneAssociation/14/Gene/SynonymList/Synonym/12/#text',\n",
       "       'DisorderGeneAssociationList/DisorderGeneAssociation/14/Gene/SynonymList/Synonym/12/@_lang',\n",
       "       'DisorderGeneAssociationList/DisorderGeneAssociation/21/Gene/ExternalReferenceList/ExternalReference/6/@_id',\n",
       "       'DisorderGeneAssociationList/DisorderGeneAssociation/21/Gene/ExternalReferenceList/ExternalReference/6/Source',\n",
       "       'DisorderGeneAssociationList/DisorderGeneAssociation/21/Gene/ExternalReferenceList/ExternalReference/6/Reference',\n",
       "       'DisorderGeneAssociationList/DisorderGeneAssociation/21/Gene/ExternalReferenceList/ExternalReference/7/@_id',\n",
       "       'DisorderGeneAssociationList/DisorderGeneAssociation/21/Gene/ExternalReferenceList/ExternalReference/7/Source',\n",
       "       'DisorderGeneAssociationList/DisorderGeneAssociation/21/Gene/ExternalReferenceList/ExternalReference/7/Reference'],\n",
       "      dtype='object', length=4652)"
      ]
     },
     "execution_count": 45,
     "metadata": {},
     "output_type": "execute_result"
    }
   ],
   "source": [
    "dataframe.columns"
   ]
  },
  {
   "cell_type": "code",
   "execution_count": 46,
   "metadata": {},
   "outputs": [],
   "source": [
    "subset = dataframe.loc[:,['OrphaCode','Name/#text',\n",
    "       'DisorderType/Name/#text','DisorderGroup/Name/#text','DisorderGeneAssociationList/@_count',\n",
    "                          'DisorderGeneAssociationList/DisorderGeneAssociation/Gene/Name/#text',\n",
    "                          'DisorderGeneAssociationList/DisorderGeneAssociation/Gene/Symbol',\n",
    "                 'DisorderGeneAssociationList/DisorderGeneAssociation/Gene/SynonymList/@_count',\n",
    "                  'DisorderGeneAssociationList/DisorderGeneAssociation/Gene/GeneType/Name/#text',\n",
    "                          'DisorderGeneAssociationList/DisorderGeneAssociation/Gene/ExternalReferenceList/@_count',\n",
    "                  'DisorderGeneAssociationList/DisorderGeneAssociation/Gene/ExternalReferenceList/ExternalReference/0/Source',\n",
    "                  'DisorderGeneAssociationList/DisorderGeneAssociation/Gene/ExternalReferenceList/ExternalReference/0/Reference',\n",
    "                  'DisorderGeneAssociationList/DisorderGeneAssociation/Gene/ExternalReferenceList/ExternalReference/1/Source',\n",
    "                          'DisorderGeneAssociationList/DisorderGeneAssociation/Gene/ExternalReferenceList/ExternalReference/1/Reference',\n",
    "                  'DisorderGeneAssociationList/DisorderGeneAssociation/Gene/ExternalReferenceList/ExternalReference/2/Source',\n",
    "                          'DisorderGeneAssociationList/DisorderGeneAssociation/Gene/ExternalReferenceList/ExternalReference/3/Source',\n",
    "                  'DisorderGeneAssociationList/DisorderGeneAssociation/Gene/ExternalReferenceList/ExternalReference/2/Reference',\n",
    "                  'DisorderGeneAssociationList/DisorderGeneAssociation/Gene/ExternalReferenceList/ExternalReference/3/Reference',\n",
    "                  'DisorderGeneAssociationList/DisorderGeneAssociation/Gene/ExternalReferenceList/ExternalReference/4/Reference',\n",
    "                          'DisorderGeneAssociationList/DisorderGeneAssociation/Gene/ExternalReferenceList/ExternalReference/5/Reference',\n",
    "                  'DisorderGeneAssociationList/DisorderGeneAssociation/Gene/ExternalReferenceList/ExternalReference/4/Source',\n",
    "                          'DisorderGeneAssociationList/DisorderGeneAssociation/Gene/ExternalReferenceList/ExternalReference/5/Source',\n",
    "                  'DisorderGeneAssociationList/DisorderGeneAssociation/Gene/LocusList/@_count',\n",
    "                          'DisorderGeneAssociationList/DisorderGeneAssociation/Gene/LocusList/Locus/GeneLocus',\n",
    "                  'DisorderGeneAssociationList/DisorderGeneAssociation/DisorderGeneAssociationType/Name/#text',\n",
    "                          'DisorderGeneAssociationList/DisorderGeneAssociation/DisorderGeneAssociationStatus/Name/#text',\n",
    "                          'DisorderGeneAssociationList/DisorderGeneAssociation/Gene/SynonymList/Synonym/0/#text',\n",
    "                  'DisorderGeneAssociationList/DisorderGeneAssociation/Gene/SynonymList/Synonym/1/#text',\n",
    "                          'DisorderGeneAssociationList/DisorderGeneAssociation/Gene/SynonymList/Synonym/2/#text'\n",
    "                  \n",
    "]]"
   ]
  },
  {
   "cell_type": "code",
   "execution_count": 47,
   "metadata": {},
   "outputs": [
    {
     "data": {
      "text/plain": [
       "(3856, 30)"
      ]
     },
     "execution_count": 47,
     "metadata": {},
     "output_type": "execute_result"
    }
   ],
   "source": [
    "subset.shape"
   ]
  },
  {
   "cell_type": "code",
   "execution_count": 48,
   "metadata": {},
   "outputs": [
    {
     "data": {
      "text/plain": [
       "30383"
      ]
     },
     "execution_count": 48,
     "metadata": {},
     "output_type": "execute_result"
    }
   ],
   "source": [
    "num_rows = subset.shape[0]\n",
    "num_missing = num_rows - subset.count()\n",
    "num_missing.sum()"
   ]
  },
  {
   "cell_type": "code",
   "execution_count": 49,
   "metadata": {},
   "outputs": [
    {
     "data": {
      "text/plain": [
       "@_id                                                                                                               0\n",
       "OrphaCode                                                                                                          0\n",
       "Name/#text                                                                                                         0\n",
       "DisorderType/Name/#text                                                                                            0\n",
       "DisorderGroup/Name/#text                                                                                           0\n",
       "DisorderGeneAssociationList/@_count                                                                                0\n",
       "DisorderGeneAssociationList/DisorderGeneAssociation/Gene/Name/#text                                             1083\n",
       "DisorderGeneAssociationList/DisorderGeneAssociation/Gene/Symbol                                                 1083\n",
       "DisorderGeneAssociationList/DisorderGeneAssociation/Gene/SynonymList/@_count                                    1083\n",
       "DisorderGeneAssociationList/DisorderGeneAssociation/Gene/GeneType/Name/#text                                    1083\n",
       "DisorderGeneAssociationList/DisorderGeneAssociation/Gene/ExternalReferenceList/@_count                          1083\n",
       "DisorderGeneAssociationList/DisorderGeneAssociation/Gene/ExternalReferenceList/ExternalReference/0/Source       1106\n",
       "DisorderGeneAssociationList/DisorderGeneAssociation/Gene/ExternalReferenceList/ExternalReference/0/Reference    1106\n",
       "DisorderGeneAssociationList/DisorderGeneAssociation/Gene/ExternalReferenceList/ExternalReference/1/Source       1106\n",
       "DisorderGeneAssociationList/DisorderGeneAssociation/Gene/ExternalReferenceList/ExternalReference/1/Reference    1106\n",
       "DisorderGeneAssociationList/DisorderGeneAssociation/Gene/ExternalReferenceList/ExternalReference/2/Source       1111\n",
       "DisorderGeneAssociationList/DisorderGeneAssociation/Gene/ExternalReferenceList/ExternalReference/3/Source       1115\n",
       "DisorderGeneAssociationList/DisorderGeneAssociation/Gene/ExternalReferenceList/ExternalReference/2/Reference    1111\n",
       "DisorderGeneAssociationList/DisorderGeneAssociation/Gene/ExternalReferenceList/ExternalReference/3/Reference    1115\n",
       "DisorderGeneAssociationList/DisorderGeneAssociation/Gene/ExternalReferenceList/ExternalReference/4/Reference    1140\n",
       "DisorderGeneAssociationList/DisorderGeneAssociation/Gene/ExternalReferenceList/ExternalReference/5/Reference    1518\n",
       "DisorderGeneAssociationList/DisorderGeneAssociation/Gene/ExternalReferenceList/ExternalReference/4/Source       1140\n",
       "DisorderGeneAssociationList/DisorderGeneAssociation/Gene/ExternalReferenceList/ExternalReference/5/Source       1518\n",
       "DisorderGeneAssociationList/DisorderGeneAssociation/Gene/LocusList/@_count                                      1083\n",
       "DisorderGeneAssociationList/DisorderGeneAssociation/Gene/LocusList/Locus/GeneLocus                              1087\n",
       "DisorderGeneAssociationList/DisorderGeneAssociation/DisorderGeneAssociationType/Name/#text                      1083\n",
       "DisorderGeneAssociationList/DisorderGeneAssociation/DisorderGeneAssociationStatus/Name/#text                    1083\n",
       "DisorderGeneAssociationList/DisorderGeneAssociation/Gene/SynonymList/Synonym/0/#text                            1965\n",
       "DisorderGeneAssociationList/DisorderGeneAssociation/Gene/SynonymList/Synonym/1/#text                            1963\n",
       "DisorderGeneAssociationList/DisorderGeneAssociation/Gene/SynonymList/Synonym/2/#text                            2512\n",
       "dtype: int64"
      ]
     },
     "execution_count": 49,
     "metadata": {},
     "output_type": "execute_result"
    }
   ],
   "source": [
    "missing_val_count_by_column = subset.isnull().sum()\n",
    "missing_val_count_by_column"
   ]
  },
  {
   "cell_type": "code",
   "execution_count": 50,
   "metadata": {},
   "outputs": [],
   "source": [
    "subset = subset.dropna()"
   ]
  },
  {
   "cell_type": "code",
   "execution_count": 51,
   "metadata": {},
   "outputs": [
    {
     "data": {
      "text/plain": [
       "(1162, 30)"
      ]
     },
     "execution_count": 51,
     "metadata": {},
     "output_type": "execute_result"
    }
   ],
   "source": [
    "subset.shape"
   ]
  },
  {
   "cell_type": "code",
   "execution_count": 52,
   "metadata": {},
   "outputs": [
    {
     "data": {
      "text/plain": [
       "@_id                                                                                                            1162\n",
       "OrphaCode                                                                                                       1162\n",
       "Name/#text                                                                                                      1162\n",
       "DisorderType/Name/#text                                                                                            8\n",
       "DisorderGroup/Name/#text                                                                                           3\n",
       "DisorderGeneAssociationList/@_count                                                                                1\n",
       "DisorderGeneAssociationList/DisorderGeneAssociation/Gene/Name/#text                                              774\n",
       "DisorderGeneAssociationList/DisorderGeneAssociation/Gene/Symbol                                                  774\n",
       "DisorderGeneAssociationList/DisorderGeneAssociation/Gene/SynonymList/@_count                                      13\n",
       "DisorderGeneAssociationList/DisorderGeneAssociation/Gene/GeneType/Name/#text                                       1\n",
       "DisorderGeneAssociationList/DisorderGeneAssociation/Gene/ExternalReferenceList/@_count                             4\n",
       "DisorderGeneAssociationList/DisorderGeneAssociation/Gene/ExternalReferenceList/ExternalReference/0/Source          7\n",
       "DisorderGeneAssociationList/DisorderGeneAssociation/Gene/ExternalReferenceList/ExternalReference/0/Reference     774\n",
       "DisorderGeneAssociationList/DisorderGeneAssociation/Gene/ExternalReferenceList/ExternalReference/1/Source          7\n",
       "DisorderGeneAssociationList/DisorderGeneAssociation/Gene/ExternalReferenceList/ExternalReference/1/Reference     774\n",
       "DisorderGeneAssociationList/DisorderGeneAssociation/Gene/ExternalReferenceList/ExternalReference/2/Source          7\n",
       "DisorderGeneAssociationList/DisorderGeneAssociation/Gene/ExternalReferenceList/ExternalReference/3/Source          7\n",
       "DisorderGeneAssociationList/DisorderGeneAssociation/Gene/ExternalReferenceList/ExternalReference/2/Reference     773\n",
       "DisorderGeneAssociationList/DisorderGeneAssociation/Gene/ExternalReferenceList/ExternalReference/3/Reference     774\n",
       "DisorderGeneAssociationList/DisorderGeneAssociation/Gene/ExternalReferenceList/ExternalReference/4/Reference     774\n",
       "DisorderGeneAssociationList/DisorderGeneAssociation/Gene/ExternalReferenceList/ExternalReference/5/Reference     774\n",
       "DisorderGeneAssociationList/DisorderGeneAssociation/Gene/ExternalReferenceList/ExternalReference/4/Source          7\n",
       "DisorderGeneAssociationList/DisorderGeneAssociation/Gene/ExternalReferenceList/ExternalReference/5/Source          7\n",
       "DisorderGeneAssociationList/DisorderGeneAssociation/Gene/LocusList/@_count                                         1\n",
       "DisorderGeneAssociationList/DisorderGeneAssociation/Gene/LocusList/Locus/GeneLocus                               414\n",
       "DisorderGeneAssociationList/DisorderGeneAssociation/DisorderGeneAssociationType/Name/#text                         9\n",
       "DisorderGeneAssociationList/DisorderGeneAssociation/DisorderGeneAssociationStatus/Name/#text                       2\n",
       "DisorderGeneAssociationList/DisorderGeneAssociation/Gene/SynonymList/Synonym/0/#text                             769\n",
       "DisorderGeneAssociationList/DisorderGeneAssociation/Gene/SynonymList/Synonym/1/#text                             773\n",
       "DisorderGeneAssociationList/DisorderGeneAssociation/Gene/SynonymList/Synonym/2/#text                             772\n",
       "dtype: int64"
      ]
     },
     "execution_count": 52,
     "metadata": {},
     "output_type": "execute_result"
    }
   ],
   "source": [
    "subset.nunique()"
   ]
  },
  {
   "cell_type": "code",
   "execution_count": 53,
   "metadata": {},
   "outputs": [
    {
     "data": {
      "text/plain": [
       "Counter({'Assessed': 1141, 'Not yet assessed': 21})"
      ]
     },
     "execution_count": 53,
     "metadata": {},
     "output_type": "execute_result"
    }
   ],
   "source": [
    "import collections\n",
    "collections.Counter(subset['DisorderGeneAssociationList/DisorderGeneAssociation/DisorderGeneAssociationStatus/Name/#text'])"
   ]
  },
  {
   "cell_type": "code",
   "execution_count": 54,
   "metadata": {},
   "outputs": [
    {
     "data": {
      "text/plain": [
       "Counter({'Disease-causing germline mutation(s) in': 804,\n",
       "         'Disease-causing somatic mutation(s) in': 24,\n",
       "         'Disease-causing germline mutation(s) (loss of function) in': 203,\n",
       "         'Disease-causing germline mutation(s) (gain of function) in': 48,\n",
       "         'Major susceptibility factor in': 24,\n",
       "         'Part of a fusion gene in': 7,\n",
       "         'Candidate gene tested in': 18,\n",
       "         'Role in the phenotype of': 33,\n",
       "         'Biomarker tested in': 1})"
      ]
     },
     "execution_count": 54,
     "metadata": {},
     "output_type": "execute_result"
    }
   ],
   "source": [
    "collections.Counter(subset['DisorderGeneAssociationList/DisorderGeneAssociation/DisorderGeneAssociationType/Name/#text'])"
   ]
  },
  {
   "cell_type": "code",
   "execution_count": 55,
   "metadata": {},
   "outputs": [
    {
     "data": {
      "text/plain": [
       "Counter({'Reactome': 141,\n",
       "         'Ensembl': 819,\n",
       "         'SwissProt': 35,\n",
       "         'OMIM': 52,\n",
       "         'Genatlas': 38,\n",
       "         'HGNC': 71,\n",
       "         'IUPHAR': 6})"
      ]
     },
     "execution_count": 55,
     "metadata": {},
     "output_type": "execute_result"
    }
   ],
   "source": [
    "collections.Counter(subset['DisorderGeneAssociationList/DisorderGeneAssociation/Gene/ExternalReferenceList/ExternalReference/0/Source'])"
   ]
  },
  {
   "cell_type": "code",
   "execution_count": 56,
   "metadata": {},
   "outputs": [
    {
     "data": {
      "text/plain": [
       "1          AGA\n",
       "9        RARS2\n",
       "11       ASAH1\n",
       "12       FUCA1\n",
       "17        PYGM\n",
       "         ...  \n",
       "3827     GATA1\n",
       "3835    FERMT3\n",
       "3840     ITGB2\n",
       "3841      FLNA\n",
       "3843       APC\n",
       "Name: DisorderGeneAssociationList/DisorderGeneAssociation/Gene/Symbol, Length: 1162, dtype: object"
      ]
     },
     "execution_count": 56,
     "metadata": {},
     "output_type": "execute_result"
    }
   ],
   "source": [
    "subset['DisorderGeneAssociationList/DisorderGeneAssociation/Gene/Symbol']"
   ]
  },
  {
   "cell_type": "code",
   "execution_count": 57,
   "metadata": {},
   "outputs": [],
   "source": [
    "subset.to_csv('genesdisorder_subset.csv', index=False)"
   ]
  },
  {
   "cell_type": "code",
   "execution_count": null,
   "metadata": {},
   "outputs": [],
   "source": []
  }
 ],
 "metadata": {
  "kernelspec": {
   "display_name": "Python 3",
   "language": "python",
   "name": "python3"
  },
  "language_info": {
   "codemirror_mode": {
    "name": "ipython",
    "version": 3
   },
   "file_extension": ".py",
   "mimetype": "text/x-python",
   "name": "python",
   "nbconvert_exporter": "python",
   "pygments_lexer": "ipython3",
   "version": "3.7.4"
  }
 },
 "nbformat": 4,
 "nbformat_minor": 4
}
